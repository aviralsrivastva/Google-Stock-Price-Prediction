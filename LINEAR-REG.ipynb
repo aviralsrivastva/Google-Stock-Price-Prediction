{
 "cells": [
  {
   "cell_type": "code",
   "execution_count": null,
   "metadata": {
    "collapsed": true
   },
   "outputs": [],
   "source": [
    "import csv\n",
    "import numpy as np\n",
    "from sklearn import linear_model\n",
    "import matplotlib.pyplot as plt\n",
    "\n",
    "dates = []\n",
    "prices = []\n",
    "\n",
    "def get_data(filename):\n",
    "\twith open(filename, 'r') as csvfile:\n",
    "\t\tcsvFileReader = csv.reader(csvfile)\n",
    "\t\tnext(csvFileReader) # skipping column names\n",
    "\t\tfor row in csvFileReader:\n",
    "\t\t\tdates.append(int(row[0].split('-')[0]))\n",
    "\t\t\tprices.append(float(row[1]))\n",
    "\treturn\n",
    "\n",
    "def predict_price(dates, prices, x):\n",
    "\tdates = np.reshape(dates, (len(dates),1)) # converting to matrix of n X 1\n",
    "\tprices = np.reshape(prices, (len(prices),1))\n",
    "\t\n",
    "\tlinear_mod = linear_model.LinearRegression() # defining the linear regression model\n",
    "\tlinear_mod.fit(dates, prices) # fitting the data points in the model\n",
    "\t\n",
    "\tplt.scatter(dates, prices, color= 'black', label= 'Data') # plotting the initial datapoints \n",
    "\tplt.plot(dates, linear_mod.predict(dates), color= 'red', label= 'Linear model') # plotting the line made by linear regression\n",
    "\tplt.xlabel('Date')\n",
    "\tplt.ylabel('Price')\n",
    "\tplt.title('Linear Regression')\n",
    "\tplt.legend()\n",
    "\tplt.show()\n",
    "\t\n",
    "\treturn linear_mod.predict(x)[0][0], linear_mod.coef_[0][0], linear_mod.intercept_[0]\n",
    "\n",
    "get_data('goog.csv') # calling get_data method by passing the csv file to it\n",
    "print (\"Dates- \", dates)\n",
    "print (\"Prices- \", prices)\n",
    "\n",
    "predicted_price, coefficient, constant = predict_price(dates, prices, 29)  \n",
    "print (\"\\nThe stock open price for 29th Feb is: $\", str(predicted_price))\n",
    "print (\"The regression coefficient is \", str(coefficient), \", and the constant is \", str(constant))\n",
    "print (\"the relationship equation between dates and prices is: price = \", str(coefficient), \"* date + \", str(constant))\n"
   ]
  }
 ],
 "metadata": {
  "kernelspec": {
   "display_name": "Python 3",
   "language": "python",
   "name": "python3"
  },
  "language_info": {
   "codemirror_mode": {
    "name": "ipython",
    "version": 3
   },
   "file_extension": ".py",
   "mimetype": "text/x-python",
   "name": "python",
   "nbconvert_exporter": "python",
   "pygments_lexer": "ipython3",
   "version": "3.6.3"
  }
 },
 "nbformat": 4,
 "nbformat_minor": 2
}
